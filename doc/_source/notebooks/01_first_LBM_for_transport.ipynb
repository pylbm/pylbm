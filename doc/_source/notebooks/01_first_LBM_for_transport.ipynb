{
 "cells": [
  {
   "cell_type": "markdown",
   "metadata": {},
   "source": [
    "# Transport in 1D\n",
    "\n",
    "$$\n",
    "\\renewcommand{\\DdQq}[2]{{\\mathrm D}_{#1}{\\mathrm Q}_{#2}}\n",
    "\\renewcommand{\\drondt}{\\partial_t}\n",
    "\\renewcommand{\\drondx}{\\partial_x}\n",
    "\\renewcommand{\\dx}{\\Delta x}\n",
    "\\renewcommand{\\dt}{\\Delta t}\n",
    "\\renewcommand{\\grandO}{{\\mathcal O}}\n",
    "\\renewcommand{\\density}[2]{\\,f_{#1}^{#2}}\n",
    "\\renewcommand{\\fk}[1]{\\density{#1}{\\vphantom{\\star}}}\n",
    "\\renewcommand{\\fks}[1]{\\density{#1}{\\star}}\n",
    "\\renewcommand{\\moment}[2]{\\,m_{#1}^{#2}}\n",
    "\\renewcommand{\\mk}[1]{\\moment{#1}{\\vphantom{\\star}}}\n",
    "\\renewcommand{\\mke}[1]{\\moment{#1}{e}}\n",
    "\\renewcommand{\\mks}[1]{\\moment{#1}{\\star}}\n",
    "$$\n",
    "\n",
    "In this tutorial, we test the most simple lattice Boltzmann scheme $\\DdQq{1}{2}$ on two classical hyperbolic scalar equations: the advection equation and the Burger's equation.\n",
    "\n",
    "## The advection equation\n",
    "\n",
    "The problem reads\n",
    "$$\\drondt u + c\\drondx u = 0, \\quad t>0, \\quad x\\in(0, 1),$$\n",
    "\n",
    "where $c$ is a constant scalar (typically $c=1$).\n",
    "Additional boundary and initial conditions will be given in the following."
   ]
  },
  {
   "cell_type": "markdown",
   "metadata": {},
   "source": [
    "The numerical simulation of this equation by a lattice Boltzmann scheme consists in the approximation of the solution on discret points of $(0,1)$ at discret instants.\n",
    "\n",
    "The spatial mesh is defined by using a numpy array. To simplify, the mesh is supposed to be uniform.\n",
    "\n",
    "First, we import the package numpy and we create the spatial mesh. One phantom cell has to be added at each edge of the domain for the treatment of the boundary conditions."
   ]
  },
  {
   "cell_type": "code",
   "execution_count": 1,
   "metadata": {},
   "outputs": [],
   "source": [
    "%matplotlib inline "
   ]
  },
  {
   "cell_type": "code",
   "execution_count": 2,
   "metadata": {},
   "outputs": [
    {
     "data": {
      "image/png": "[encoded data removed]",
      "text/plain": [
       "<Figure size 432x288 with 1 Axes>"
      ]
     },
     "metadata": {},
     "output_type": "display_data"
    }
   ],
   "source": [
    "import numpy as np\n",
    "import pylab as plt\n",
    "\n",
    "def mesh(N):\n",
    "    xmin, xmax = 0., 1.\n",
    "    dx = 1./N\n",
    "    x = np.linspace(xmin-.5*dx, xmax+.5*dx, N+2)\n",
    "    return x\n",
    "\n",
    "x = mesh(10)\n",
    "plt.plot(x, 0.*x, 'sk')\n",
    "plt.show()"
   ]
  },
  {
   "cell_type": "markdown",
   "metadata": {},
   "source": [
    "To simulate this equation, we use the $\\DdQq{1}{2}$ scheme given by\n",
    "\n",
    "* two velocities $v_0=-1$, $v_1=1$, with associated distribution functions $\\fk{0}$ and $\\fk{1}$,\n",
    "* a space step $\\dx$ and a time step $\\dt$, the ration $\\lambda=\\dx/\\dt$ is called the scheme velocity,\n",
    "* two moments $\\mk{0}=\\sum_{i=0}^1\\fk{i}$ and $\\mk{1}=\\lambda \\sum_{i=0}^1 v_i\\fk{i}$ and their equilibrium values $\\mke{0} = \\mk{0}$, $\\mke{1} = c\\mk{0}$,\n",
    "* a relaxation parameter $s$ lying in $[0,2]$.\n",
    "\n",
    "In order to prepare the formalism of the package pylbm, we introduce the two polynomials that define the moments: $P_0 = 1$ and $P_1=\\lambda X$, such that\n",
    "$$ \n",
    "\\mk{k} = \\sum_{i=0}^1 P_k(v_i) \\fk{i}.\n",
    "$$\n",
    "\n",
    "The transformation $(\\fk{0}, \\fk{1})\\mapsto(\\mk{0},\\mk{1})$ is invertible if, and only if, the polynomials $(P_0,P_1)$ is a free set over the stencil of velocities.\n",
    "\n",
    "The lattice Boltzmann method consists to compute the distribution functions $\\fk{0}$ and $\\fk{1}$ in each point of the lattice $x$ and at each time $t^n=n\\dt$.\n",
    "A step of the scheme can be read as a splitting between the relaxation phase and the transport phase:\n",
    "\n",
    "* relaxation: $$\\mks{1}(t,x)=(1-s)\\mk{1}(t,x)+s\\mke{1}(t,x).$$\n",
    "* m2f: \n",
    "$$\\begin{aligned}\\fks{0}(t,x)&\\;=(\\mk{0}(t,x)-\\mks{1}(t,x)/\\lambda)/2, \\\\ \\fks{1}(t,x)&\\;=(\\mk{0}(t,x)+\\mks{1}(t,x)/\\lambda)/2.\\end{aligned}\n",
    "$$\n",
    "* transport: $$\\fk{0}(t+\\dt, x)=\\fks{0}(t,x+\\dx), \\qquad \\fk{1}(t+\\dt, x)=\\fks{1}(t,x-\\dx).$$\n",
    "* f2m: \n",
    "$$\\begin{aligned}\\mk{0}(t+\\dt,x)&\\;=\\fk{0}(t+\\dt,x)+\\fk{1}(t+\\dt,x), \\\\ \\mk{1}(t+\\dt,x)&\\;=-\\lambda\\fk{0}(t+\\dt,x)+\\lambda\\fk{1}(t+\\dt,x).\\end{aligned}\n",
    "$$\n",
    "\n",
    "The moment of order $0$, $\\mk{0}$, being the only one conserved during the relaxation phase, the equivalent equation of this scheme reads at first order\n",
    "\n",
    "$$\\drondt\\mk{0} + \\drondx\\mke{1} = \\grandO(\\dt).$$\n",
    "\n",
    "We implement a function equilibrium that computes the equilibrium value $\\mke{1}$, the moment of order $0$, $\\mk{0}$, and the velocity $c$ being given in argument."
   ]
  },
  {
   "cell_type": "code",
   "execution_count": 3,
   "metadata": {},
   "outputs": [],
   "source": [
    "def equilibrium(m0, c):\n",
    "    return c*m0\n"
   ]
  },
  {
   "cell_type": "markdown",
   "metadata": {},
   "source": [
    "Then, we create two vectors $\\mk{0}$ and $\\mk{1}$ with shape the shape of the mesh and initialize them. The moment of order $0$ should contain the initial value of the unknown $u$ and the moment of order $1$ the corresponding equilibrium value.\n",
    "\n",
    "We create also two vectors $\\fk{0}$ and $\\fk{1}$."
   ]
  },
  {
   "cell_type": "code",
   "execution_count": 4,
   "metadata": {},
   "outputs": [],
   "source": [
    "def initialize(mesh, c, la):\n",
    "    m0 = np.zeros(mesh.shape)\n",
    "    m0[np.logical_and(mesh<0.5, mesh>0.25)] = 1.\n",
    "    m1 = equilibrium(m0, c)\n",
    "    f0, f1 = np.empty(m0.shape), np.empty(m0.shape)\n",
    "    m2f(f0, f1, m0, m1, la)\n",
    "    return f0, f1, m0, m1\n"
   ]
  },
  {
   "cell_type": "markdown",
   "metadata": {},
   "source": [
    "And finally, we implement the four elementary functions f2m, relaxation, m2f, and transport. In the transport function, the boundary conditions should be implemented: we will use periodic conditions by copying the informations in the phantom cells."
   ]
  },
  {
   "cell_type": "code",
   "execution_count": 5,
   "metadata": {},
   "outputs": [],
   "source": [
    "def f2m(f0, f1, m0, m1, la):\n",
    "    m0[:] = f0 + f1\n",
    "    m1[:] = la*(f1 - f0)\n",
    "    \n",
    "def m2f(f0, f1, m0, m1, la):\n",
    "    f0[:] = 0.5*(m0-m1/la)\n",
    "    f1[:] = 0.5*(m0+m1/la)\n",
    "\n",
    "def relaxation(m0, m1, c, s):\n",
    "    m1[:] = (1-s)*m1 + s*equilibrium(m0, c)\n",
    "\n",
    "def transport(f0, f1):\n",
    "    #periodical boundary conditions\n",
    "    f0[-1] = f0[1]\n",
    "    f1[0] = f1[-2]\n",
    "    #transport\n",
    "    f0[1:-1] = f0[2:]\n",
    "    f1[1:-1] = f1[:-2]\n",
    "    "
   ]
  },
  {
   "cell_type": "markdown",
   "metadata": {},
   "source": [
    "We compute and we plot the numerical solution at time $T_f=2$."
   ]
  },
  {
   "cell_type": "code",
   "execution_count": 6,
   "metadata": {},
   "outputs": [
    {
     "data": {
      "image/png": "[encoded data removed]",
      "text/plain": [
       "<Figure size 432x288 with 1 Axes>"
      ]
     },
     "metadata": {},
     "output_type": "display_data"
    }
   ],
   "source": [
    "# parameters\n",
    "c = .5  # velocity for the transport equation\n",
    "Tf = 2. # final time\n",
    "N = 128 # number of points in space\n",
    "la = 1. # scheme velocity\n",
    "s = 1.8 # relaxation parameter\n",
    "# initialization\n",
    "x = mesh(N)\n",
    "f0, f1, m0, m1 = initialize(x, c, la)\n",
    "t = 0\n",
    "dt = (x[1]-x[0])/la\n",
    "plt.figure(1)\n",
    "plt.clf()\n",
    "plt.plot(x[1:-1], m0[1:-1], 'k', label='init')\n",
    "while t<Tf:\n",
    "    t += dt\n",
    "    relaxation(m0, m1, c, s)\n",
    "    m2f(f0, f1, m0, m1, la)\n",
    "    transport(f0, f1)\n",
    "    f2m(f0, f1, m0, m1, la)\n",
    "plt.plot(x[1:-1], m0[1:-1], 'r', label='final')\n",
    "plt.legend()\n",
    "plt.title('Advection')\n",
    "plt.show()"
   ]
  },
  {
   "cell_type": "markdown",
   "metadata": {},
   "source": [
    "## The Burger's equation\n",
    "\n",
    "The problem reads\n",
    "$$\\drondt u + \\tfrac{1}{2} \\drondx u^2 = 0, \\quad t>0, \\quad x\\in(0, 1).$$\n",
    "\n",
    "The previous $\\DdQq{1}{2}$ scheme can simulate the Burger's equation by modifying the equilibrium value of the moment of order $1$ $\\mke{1}$. \n",
    "It now reads $\\mke{1} = {\\mk{0}}^2/2$.\n",
    "\n",
    "More generaly, the simulated equation is into the conservative form\n",
    "$$\\drondt u + \\drondx \\varphi(u) = 0, \\quad t>0, \\quad x\\in(0, 1),$$\n",
    "\n",
    "the equilibrium has to be taken to $\\mke{1}=\\varphi(\\mk{0})$.\n",
    "\n",
    "We just have to modify the equilibrium and the initialization of the previous example to simulate the Burger's equation. The initial condition can be a discontinuous function in order to simulate Riemann problems. Note that the function f2m, m2f, relaxation, and transport are unchanged."
   ]
  },
  {
   "cell_type": "code",
   "execution_count": 7,
   "metadata": {},
   "outputs": [
    {
     "data": {
      "image/png": "[encoded data removed]",
      "text/plain": [
       "<Figure size 432x288 with 1 Axes>"
      ]
     },
     "metadata": {},
     "output_type": "display_data"
    }
   ],
   "source": [
    "def equilibrium(m0):\n",
    "    return .5*m0**2\n",
    "\n",
    "def initialize(mesh, la):\n",
    "    ug, ud = 0.25, -0.15\n",
    "    xmin, xmax = .5*np.sum(mesh[:2]), .5*np.sum(mesh[-2:])\n",
    "    xc = xmin + .5*(xmax-xmin)\n",
    "    m0 = ug*(mesh<xc) + ud*(mesh>xc) + .5*(ug+ud)*(mesh==xc)\n",
    "    m1 = equilibrium(m0)\n",
    "    f0 = np.empty(m0.shape)\n",
    "    f1 = np.empty(m0.shape)\n",
    "    return f0, f1, m0, m1\n",
    "\n",
    "def relaxation(m0, m1, s):\n",
    "    m1[:] = (1-s)*m1 + s*equilibrium(m0)\n",
    "    \n",
    "# parameters\n",
    "Tf = 1. # final time\n",
    "N = 128 # number of points in space\n",
    "la = 1. # scheme velocity\n",
    "s = 1.8 # relaxation parameter\n",
    "# initialization\n",
    "x = mesh(N)     # mesh\n",
    "dx = x[1]-x[0]  # space step\n",
    "dt = dx/la      # time step\n",
    "f0, f1, m0, m1 = initialize(x, la)\n",
    "plt.figure(1)\n",
    "plt.plot(x[1:-1], m0[1:-1], 'b', label='initial')\n",
    "# time loops\n",
    "t = 0.\n",
    "while (t<Tf):\n",
    "    t += dt\n",
    "    relaxation(m0, m1, s)\n",
    "    m2f(f0, f1, m0, m1, la)\n",
    "    transport(f0, f1)\n",
    "    f2m(f0, f1, m0, m1, la)\n",
    "plt.plot(x[1:-1], m0[1:-1], 'r', label='final')\n",
    "plt.title('Burgers equation')\n",
    "plt.legend(loc='best')\n",
    "plt.show()"
   ]
  },
  {
   "cell_type": "markdown",
   "metadata": {},
   "source": [
    "We can test different values of the relaxation parameter $s$. In particular, we observe that the scheme remains stable if $s\\in[0,2]$. More $s$ is small, more the numerical diffusion is important and if $s$ is close to $2$, oscillations appear behind the shock.\n",
    "\n",
    "In order to simulate a Riemann problem, the boundary conditions have to be modified. A classical way is to impose entry conditions for hyperbolic problems. The lattice Boltzmann methods lend themselves very well to that conditions: the scheme only needs the distributions corresponding to a velocity that goes inside the domain. Nevertheless, on a physical edge where the flux is going outside, a non physical distribution that goes inside has to be imposed. A first simple way is to leave the initial value: this is correct while the discontinuity does not reach the edge. A second way is to impose Neumann condition by repeating the inner value.\n",
    "\n",
    "We modify the previous script to take into account these new boundary conditions.\n"
   ]
  },
  {
   "cell_type": "code",
   "execution_count": 8,
   "metadata": {},
   "outputs": [
    {
     "data": {
      "image/png": "[encoded data removed]",
      "text/plain": [
       "<Figure size 432x288 with 1 Axes>"
      ]
     },
     "metadata": {},
     "output_type": "display_data"
    }
   ],
   "source": [
    "def transport(f0, f1):\n",
    "    # Neumann boundary conditions\n",
    "    f0[-1] = f0[-2]\n",
    "    f1[0] = f1[1]\n",
    "    # transport\n",
    "    f0[1:-1] = f0[2:]\n",
    "    f1[1:-1] = f1[:-2]\n",
    "    \n",
    "# parameters\n",
    "Tf = 1. # final time\n",
    "N = 128 # number of points in space\n",
    "la = 1. # scheme velocity\n",
    "s = 1.8 # relaxation parameter\n",
    "\n",
    "# initialization\n",
    "x = mesh(N)     # mesh\n",
    "dx = x[1]-x[0]  # space step\n",
    "dt = dx/la      # time step\n",
    "f0, f1, m0, m1 = initialize(x, la)\n",
    "plt.figure(1)\n",
    "plt.plot(x[1:-1], m0[1:-1], 'b', label='initial')\n",
    "# time loops\n",
    "t = 0.\n",
    "while (t<Tf):\n",
    "    t += dt\n",
    "    relaxation(m0, m1, s)\n",
    "    m2f(f0, f1, m0, m1, la)\n",
    "    transport(f0, f1)\n",
    "    f2m(f0, f1, m0, m1, la)\n",
    "plt.plot(x[1:-1], m0[1:-1], 'r', label='final')\n",
    "plt.title('Burgers equation')\n",
    "plt.legend(loc='best')\n",
    "plt.show()"
   ]
  }
 ],
 "metadata": {
  "kernelspec": {
   "display_name": "Python 3",
   "language": "python",
   "name": "python3"
  },
  "language_info": {
   "codemirror_mode": {
    "name": "ipython",
    "version": 3
   },
   "file_extension": ".py",
   "mimetype": "text/x-python",
   "name": "python",
   "nbconvert_exporter": "python",
   "pygments_lexer": "ipython3",
   "version": "3.6.4"
  }
 },
 "nbformat": 4,
 "nbformat_minor": 1
}
